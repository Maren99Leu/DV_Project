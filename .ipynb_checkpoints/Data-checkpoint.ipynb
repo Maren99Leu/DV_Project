{
 "cells": [
  {
   "cell_type": "code",
   "execution_count": 1,
   "metadata": {},
   "outputs": [],
   "source": [
    "import pandas as pd"
   ]
  },
  {
   "cell_type": "code",
   "execution_count": 2,
   "metadata": {},
   "outputs": [],
   "source": [
    "df_co2 = pd.read_csv('co2.csv')\n",
    "df_mth = pd.read_csv('methane.csv')\n",
    "df_nt = pd.read_csv('nitrate_oxide.csv')\n",
    "df_ghg = pd.read_csv('ghg.csv')\n",
    "df_gdp = pd.read_csv('gdp.csv')\n",
    "df_population = pd.read_csv('population_data.csv')"
   ]
  },
  {
   "cell_type": "code",
   "execution_count": 3,
   "metadata": {},
   "outputs": [],
   "source": [
    "for year in range(1960,2020):\n",
    "    df_co2[str(year)] = df_co2[str(year)] / df_population[str(year)]\n",
    "    df_mth[str(year)] = df_mth[str(year)] / df_population[str(year)]\n",
    "    df_nt[str(year)] = df_nt[str(year)] / df_population[str(year)]\n",
    "    df_ghg[str(year)] = df_ghg[str(year)] / df_population[str(year)]\n",
    "    df_gdp[str(year)] = df_gdp[str(year)] / df_population[str(year)]"
   ]
  },
  {
   "cell_type": "code",
   "execution_count": 4,
   "metadata": {},
   "outputs": [],
   "source": [
    "df_co2_md = pd.read_csv('co2_metadata.csv')\n",
    "df_co2 = df_co2.merge(df_co2_md,on=\"Country Code\")"
   ]
  },
  {
   "cell_type": "code",
   "execution_count": 5,
   "metadata": {},
   "outputs": [],
   "source": [
    "df_mth_md = pd.read_csv('methane_metadata.csv')\n",
    "df_mth = df_mth.merge(df_mth_md,on=\"Country Code\")"
   ]
  },
  {
   "cell_type": "code",
   "execution_count": 6,
   "metadata": {},
   "outputs": [],
   "source": [
    "df_nt_md = pd.read_csv('nitrate_oxide_metadata.csv')\n",
    "df_nt = df_nt.merge(df_nt_md,on=\"Country Code\")"
   ]
  },
  {
   "cell_type": "code",
   "execution_count": 7,
   "metadata": {},
   "outputs": [],
   "source": [
    "df_ghg_md = pd.read_csv('ghg_metadata.csv')\n",
    "df_ghg = df_ghg.merge(df_ghg_md,on=\"Country Code\")"
   ]
  },
  {
   "cell_type": "code",
   "execution_count": 8,
   "metadata": {},
   "outputs": [],
   "source": [
    "df_gdp_md = pd.read_csv('gdp_metadata.csv')\n",
    "df_gdp = df_gdp.merge(df_gdp_md,on=\"Country Code\")"
   ]
  },
  {
   "cell_type": "code",
   "execution_count": 9,
   "metadata": {
    "scrolled": true
   },
   "outputs": [
    {
     "data": {
      "text/html": [
       "<div>\n",
       "<style scoped>\n",
       "    .dataframe tbody tr th:only-of-type {\n",
       "        vertical-align: middle;\n",
       "    }\n",
       "\n",
       "    .dataframe tbody tr th {\n",
       "        vertical-align: top;\n",
       "    }\n",
       "\n",
       "    .dataframe thead th {\n",
       "        text-align: right;\n",
       "    }\n",
       "</style>\n",
       "<table border=\"1\" class=\"dataframe\">\n",
       "  <thead>\n",
       "    <tr style=\"text-align: right;\">\n",
       "      <th></th>\n",
       "      <th>Country Code</th>\n",
       "      <th>Region</th>\n",
       "      <th>IncomeGroup</th>\n",
       "      <th>SpecialNotes</th>\n",
       "      <th>TableName</th>\n",
       "      <th>Unnamed: 5</th>\n",
       "    </tr>\n",
       "  </thead>\n",
       "  <tbody>\n",
       "    <tr>\n",
       "      <th>0</th>\n",
       "      <td>ABW</td>\n",
       "      <td>Latin America &amp; Caribbean</td>\n",
       "      <td>High income</td>\n",
       "      <td>NaN</td>\n",
       "      <td>Aruba</td>\n",
       "      <td>NaN</td>\n",
       "    </tr>\n",
       "    <tr>\n",
       "      <th>1</th>\n",
       "      <td>AFG</td>\n",
       "      <td>South Asia</td>\n",
       "      <td>Low income</td>\n",
       "      <td>NaN</td>\n",
       "      <td>Afghanistan</td>\n",
       "      <td>NaN</td>\n",
       "    </tr>\n",
       "    <tr>\n",
       "      <th>2</th>\n",
       "      <td>AGO</td>\n",
       "      <td>Sub-Saharan Africa</td>\n",
       "      <td>Lower middle income</td>\n",
       "      <td>NaN</td>\n",
       "      <td>Angola</td>\n",
       "      <td>NaN</td>\n",
       "    </tr>\n",
       "    <tr>\n",
       "      <th>3</th>\n",
       "      <td>ALB</td>\n",
       "      <td>Europe &amp; Central Asia</td>\n",
       "      <td>Upper middle income</td>\n",
       "      <td>NaN</td>\n",
       "      <td>Albania</td>\n",
       "      <td>NaN</td>\n",
       "    </tr>\n",
       "    <tr>\n",
       "      <th>4</th>\n",
       "      <td>AND</td>\n",
       "      <td>Europe &amp; Central Asia</td>\n",
       "      <td>High income</td>\n",
       "      <td>NaN</td>\n",
       "      <td>Andorra</td>\n",
       "      <td>NaN</td>\n",
       "    </tr>\n",
       "    <tr>\n",
       "      <th>...</th>\n",
       "      <td>...</td>\n",
       "      <td>...</td>\n",
       "      <td>...</td>\n",
       "      <td>...</td>\n",
       "      <td>...</td>\n",
       "      <td>...</td>\n",
       "    </tr>\n",
       "    <tr>\n",
       "      <th>258</th>\n",
       "      <td>XKX</td>\n",
       "      <td>Europe &amp; Central Asia</td>\n",
       "      <td>Upper middle income</td>\n",
       "      <td>NaN</td>\n",
       "      <td>Kosovo</td>\n",
       "      <td>NaN</td>\n",
       "    </tr>\n",
       "    <tr>\n",
       "      <th>259</th>\n",
       "      <td>YEM</td>\n",
       "      <td>Middle East &amp; North Africa</td>\n",
       "      <td>Low income</td>\n",
       "      <td>NaN</td>\n",
       "      <td>Yemen, Rep.</td>\n",
       "      <td>NaN</td>\n",
       "    </tr>\n",
       "    <tr>\n",
       "      <th>260</th>\n",
       "      <td>ZAF</td>\n",
       "      <td>Sub-Saharan Africa</td>\n",
       "      <td>Upper middle income</td>\n",
       "      <td>Fiscal year end: March 31; reporting period fo...</td>\n",
       "      <td>South Africa</td>\n",
       "      <td>NaN</td>\n",
       "    </tr>\n",
       "    <tr>\n",
       "      <th>261</th>\n",
       "      <td>ZMB</td>\n",
       "      <td>Sub-Saharan Africa</td>\n",
       "      <td>Lower middle income</td>\n",
       "      <td>National accounts data were rebased to reflect...</td>\n",
       "      <td>Zambia</td>\n",
       "      <td>NaN</td>\n",
       "    </tr>\n",
       "    <tr>\n",
       "      <th>262</th>\n",
       "      <td>ZWE</td>\n",
       "      <td>Sub-Saharan Africa</td>\n",
       "      <td>Lower middle income</td>\n",
       "      <td>NaN</td>\n",
       "      <td>Zimbabwe</td>\n",
       "      <td>NaN</td>\n",
       "    </tr>\n",
       "  </tbody>\n",
       "</table>\n",
       "<p>263 rows × 6 columns</p>\n",
       "</div>"
      ],
      "text/plain": [
       "    Country Code                      Region          IncomeGroup  \\\n",
       "0            ABW   Latin America & Caribbean          High income   \n",
       "1            AFG                  South Asia           Low income   \n",
       "2            AGO          Sub-Saharan Africa  Lower middle income   \n",
       "3            ALB       Europe & Central Asia  Upper middle income   \n",
       "4            AND       Europe & Central Asia          High income   \n",
       "..           ...                         ...                  ...   \n",
       "258          XKX       Europe & Central Asia  Upper middle income   \n",
       "259          YEM  Middle East & North Africa           Low income   \n",
       "260          ZAF          Sub-Saharan Africa  Upper middle income   \n",
       "261          ZMB          Sub-Saharan Africa  Lower middle income   \n",
       "262          ZWE          Sub-Saharan Africa  Lower middle income   \n",
       "\n",
       "                                          SpecialNotes     TableName  \\\n",
       "0                                                  NaN         Aruba   \n",
       "1                                                  NaN   Afghanistan   \n",
       "2                                                  NaN        Angola   \n",
       "3                                                  NaN       Albania   \n",
       "4                                                  NaN       Andorra   \n",
       "..                                                 ...           ...   \n",
       "258                                                NaN        Kosovo   \n",
       "259                                                NaN   Yemen, Rep.   \n",
       "260  Fiscal year end: March 31; reporting period fo...  South Africa   \n",
       "261  National accounts data were rebased to reflect...        Zambia   \n",
       "262                                                NaN      Zimbabwe   \n",
       "\n",
       "     Unnamed: 5  \n",
       "0           NaN  \n",
       "1           NaN  \n",
       "2           NaN  \n",
       "3           NaN  \n",
       "4           NaN  \n",
       "..          ...  \n",
       "258         NaN  \n",
       "259         NaN  \n",
       "260         NaN  \n",
       "261         NaN  \n",
       "262         NaN  \n",
       "\n",
       "[263 rows x 6 columns]"
      ]
     },
     "execution_count": 9,
     "metadata": {},
     "output_type": "execute_result"
    }
   ],
   "source": [
    "df_gdp_md"
   ]
  },
  {
   "cell_type": "code",
   "execution_count": 10,
   "metadata": {},
   "outputs": [],
   "source": [
    "for year in range(1960,1990):\n",
    "    df_co2 = df_co2.drop(str(year), axis=1)\n",
    "    df_mth = df_mth.drop(str(year), axis=1)\n",
    "    df_nt = df_nt.drop(str(year), axis=1)\n",
    "    df_ghg = df_ghg.drop(str(year), axis=1)\n",
    "    df_gdp = df_gdp.drop(str(year), axis=1)"
   ]
  },
  {
   "cell_type": "code",
   "execution_count": 11,
   "metadata": {},
   "outputs": [],
   "source": [
    "for year in range(2013,2020):\n",
    "    df_co2 = df_co2.drop(str(year), axis=1)\n",
    "    df_mth = df_mth.drop(str(year), axis=1)\n",
    "    df_nt = df_nt.drop(str(year), axis=1)\n",
    "    df_ghg = df_ghg.drop(str(year), axis=1)\n",
    "    df_gdp = df_gdp.drop(str(year), axis=1)"
   ]
  },
  {
   "cell_type": "code",
   "execution_count": 12,
   "metadata": {},
   "outputs": [],
   "source": [
    "for column in ['Indicator Code','Unnamed: 64','SpecialNotes','TableName','Unnamed: 5']:\n",
    "    df_co2 = df_co2.drop(column, axis=1)\n",
    "    df_mth = df_mth.drop(column, axis=1)\n",
    "    df_nt = df_nt.drop(column, axis=1)\n",
    "    df_ghg = df_ghg.drop(column, axis=1)\n",
    "    df_gdp = df_gdp.drop(column, axis=1)"
   ]
  },
  {
   "cell_type": "code",
   "execution_count": 13,
   "metadata": {},
   "outputs": [],
   "source": [
    "df_co2 = df_co2[df_co2['Region'].notna()]\n",
    "df_mth = df_mth[df_mth['Region'].notna()]\n",
    "df_nt = df_nt[df_nt['Region'].notna()]\n",
    "df_ghg = df_ghg[df_ghg['Region'].notna()]\n",
    "df_gdp = df_gdp[df_gdp['Region'].notna()]"
   ]
  },
  {
   "cell_type": "code",
   "execution_count": 14,
   "metadata": {},
   "outputs": [],
   "source": [
    "df_co2 = pd.melt(df_co2, id_vars = ['Country Name'], value_vars = [str(year) for year in range(1990,2013)])\n",
    "df_co2 = df_co2.rename(columns={\"value\": \"CO2\",'variable':'year'})\n",
    "df_co2 = df_co2.sort_values(by=['Country Name','year'])"
   ]
  },
  {
   "cell_type": "code",
   "execution_count": 15,
   "metadata": {},
   "outputs": [],
   "source": [
    "df_mth = pd.melt(df_mth, id_vars = ['Country Name'], value_vars = [str(year) for year in range(1990,2013)])\n",
    "df_mth = df_mth.rename(columns={\"value\": \"Methane\",'variable':'year'})\n",
    "df_mth = df_mth.sort_values(by=['Country Name','year'])"
   ]
  },
  {
   "cell_type": "code",
   "execution_count": 16,
   "metadata": {},
   "outputs": [],
   "source": [
    "df_nt = pd.melt(df_nt, id_vars = ['Country Name'], value_vars = [str(year) for year in range(1990,2013)])\n",
    "df_nt = df_nt.rename(columns={\"value\": \"Nitrate Oxide\",'variable':'year'})\n",
    "df_nt = df_nt.sort_values(by=['Country Name','year'])"
   ]
  },
  {
   "cell_type": "code",
   "execution_count": 17,
   "metadata": {},
   "outputs": [],
   "source": [
    "df_ghg = pd.melt(df_ghg, id_vars = ['Country Name'], value_vars = [str(year) for year in range(1990,2013)])\n",
    "df_ghg = df_ghg.rename(columns={\"value\": \"Greenhouse Gases\",'variable':'year'})\n",
    "df_ghg = df_ghg.sort_values(by=['Country Name','year'])"
   ]
  },
  {
   "cell_type": "code",
   "execution_count": 18,
   "metadata": {},
   "outputs": [
    {
     "ename": "KeyError",
     "evalue": "\"The following 'value_vars' are not present in the DataFrame: ['1990', '1991', '1992', '1993', '1994', '1995', '1996', '1997', '1998', '1999', '2000', '2001', '2002', '2003', '2004', '2005', '2006', '2007', '2008', '2009', '2010', '2011', '2012']\"",
     "output_type": "error",
     "traceback": [
      "\u001b[1;31m---------------------------------------------------------------------------\u001b[0m",
      "\u001b[1;31mKeyError\u001b[0m                                  Traceback (most recent call last)",
      "\u001b[1;32m<ipython-input-18-710aab0e56db>\u001b[0m in \u001b[0;36m<module>\u001b[1;34m\u001b[0m\n\u001b[1;32m----> 1\u001b[1;33m \u001b[0mdf_gdp\u001b[0m \u001b[1;33m=\u001b[0m \u001b[0mpd\u001b[0m\u001b[1;33m.\u001b[0m\u001b[0mmelt\u001b[0m\u001b[1;33m(\u001b[0m\u001b[0mdf_ghg\u001b[0m\u001b[1;33m,\u001b[0m \u001b[0mid_vars\u001b[0m \u001b[1;33m=\u001b[0m \u001b[1;33m[\u001b[0m\u001b[1;34m'Country Name'\u001b[0m\u001b[1;33m]\u001b[0m\u001b[1;33m,\u001b[0m \u001b[0mvalue_vars\u001b[0m \u001b[1;33m=\u001b[0m \u001b[1;33m[\u001b[0m\u001b[0mstr\u001b[0m\u001b[1;33m(\u001b[0m\u001b[0myear\u001b[0m\u001b[1;33m)\u001b[0m \u001b[1;32mfor\u001b[0m \u001b[0myear\u001b[0m \u001b[1;32min\u001b[0m \u001b[0mrange\u001b[0m\u001b[1;33m(\u001b[0m\u001b[1;36m1990\u001b[0m\u001b[1;33m,\u001b[0m\u001b[1;36m2013\u001b[0m\u001b[1;33m)\u001b[0m\u001b[1;33m]\u001b[0m\u001b[1;33m)\u001b[0m\u001b[1;33m\u001b[0m\u001b[1;33m\u001b[0m\u001b[0m\n\u001b[0m\u001b[0;32m      2\u001b[0m \u001b[0mdf_ghg\u001b[0m \u001b[1;33m=\u001b[0m \u001b[0mdf_ghg\u001b[0m\u001b[1;33m.\u001b[0m\u001b[0mrename\u001b[0m\u001b[1;33m(\u001b[0m\u001b[0mcolumns\u001b[0m\u001b[1;33m=\u001b[0m\u001b[1;33m{\u001b[0m\u001b[1;34m\"value\"\u001b[0m\u001b[1;33m:\u001b[0m \u001b[1;34m\"GDP\"\u001b[0m\u001b[1;33m,\u001b[0m\u001b[1;34m'variable'\u001b[0m\u001b[1;33m:\u001b[0m\u001b[1;34m'year'\u001b[0m\u001b[1;33m}\u001b[0m\u001b[1;33m)\u001b[0m\u001b[1;33m\u001b[0m\u001b[1;33m\u001b[0m\u001b[0m\n\u001b[0;32m      3\u001b[0m \u001b[0mdf_ghg\u001b[0m \u001b[1;33m=\u001b[0m \u001b[0mdf_ghg\u001b[0m\u001b[1;33m.\u001b[0m\u001b[0msort_values\u001b[0m\u001b[1;33m(\u001b[0m\u001b[0mby\u001b[0m\u001b[1;33m=\u001b[0m\u001b[1;33m[\u001b[0m\u001b[1;34m'Country Name'\u001b[0m\u001b[1;33m,\u001b[0m\u001b[1;34m'year'\u001b[0m\u001b[1;33m]\u001b[0m\u001b[1;33m)\u001b[0m\u001b[1;33m\u001b[0m\u001b[1;33m\u001b[0m\u001b[0m\n",
      "\u001b[1;32m~\\Anaconda3\\envs\\Data Visualization Environment\\lib\\site-packages\\pandas\\core\\reshape\\melt.py\u001b[0m in \u001b[0;36mmelt\u001b[1;34m(frame, id_vars, value_vars, var_name, value_name, col_level)\u001b[0m\n\u001b[0;32m     72\u001b[0m                     \u001b[1;34m\"The following 'value_vars' are not present in\"\u001b[0m\u001b[1;33m\u001b[0m\u001b[1;33m\u001b[0m\u001b[0m\n\u001b[0;32m     73\u001b[0m                     \u001b[1;34m\" the DataFrame: {missing}\"\u001b[0m\u001b[1;33m\u001b[0m\u001b[1;33m\u001b[0m\u001b[0m\n\u001b[1;32m---> 74\u001b[1;33m                     \u001b[1;34m\"\"\u001b[0m\u001b[1;33m.\u001b[0m\u001b[0mformat\u001b[0m\u001b[1;33m(\u001b[0m\u001b[0mmissing\u001b[0m\u001b[1;33m=\u001b[0m\u001b[0mlist\u001b[0m\u001b[1;33m(\u001b[0m\u001b[0mmissing\u001b[0m\u001b[1;33m)\u001b[0m\u001b[1;33m)\u001b[0m\u001b[1;33m\u001b[0m\u001b[1;33m\u001b[0m\u001b[0m\n\u001b[0m\u001b[0;32m     75\u001b[0m                 )\n\u001b[0;32m     76\u001b[0m         \u001b[0mframe\u001b[0m \u001b[1;33m=\u001b[0m \u001b[0mframe\u001b[0m\u001b[1;33m.\u001b[0m\u001b[0mloc\u001b[0m\u001b[1;33m[\u001b[0m\u001b[1;33m:\u001b[0m\u001b[1;33m,\u001b[0m \u001b[0mid_vars\u001b[0m \u001b[1;33m+\u001b[0m \u001b[0mvalue_vars\u001b[0m\u001b[1;33m]\u001b[0m\u001b[1;33m\u001b[0m\u001b[1;33m\u001b[0m\u001b[0m\n",
      "\u001b[1;31mKeyError\u001b[0m: \"The following 'value_vars' are not present in the DataFrame: ['1990', '1991', '1992', '1993', '1994', '1995', '1996', '1997', '1998', '1999', '2000', '2001', '2002', '2003', '2004', '2005', '2006', '2007', '2008', '2009', '2010', '2011', '2012']\""
     ]
    }
   ],
   "source": [
    "df_gdp = pd.melt(df_gdp, id_vars = ['Country Name'], value_vars = [str(year) for year in range(1990,2013)])\n",
    "df_gdp = df_gdp.rename(columns={\"value\": \"GDP\",'variable':'year'})\n",
    "df_gdp = df_gdp.sort_values(by=['Country Name','year'])"
   ]
  },
  {
   "cell_type": "code",
   "execution_count": null,
   "metadata": {
    "scrolled": true
   },
   "outputs": [],
   "source": [
    "df = pd.concat([df_co2,df_mth['Methane']],axis=1)"
   ]
  },
  {
   "cell_type": "code",
   "execution_count": null,
   "metadata": {
    "scrolled": true
   },
   "outputs": [],
   "source": [
    "df = pd.concat([df,df_nt['Nitrate Oxide'],df_ghg['Greenhouse Gases']],axis=1)"
   ]
  },
  {
   "cell_type": "code",
   "execution_count": null,
   "metadata": {
    "scrolled": true
   },
   "outputs": [],
   "source": [
    "df[pd.isnull(df).any(axis=1)]"
   ]
  },
  {
   "cell_type": "code",
   "execution_count": null,
   "metadata": {},
   "outputs": [],
   "source": []
  }
 ],
 "metadata": {
  "kernelspec": {
   "display_name": "Python 3",
   "language": "python",
   "name": "python3"
  },
  "language_info": {
   "codemirror_mode": {
    "name": "ipython",
    "version": 3
   },
   "file_extension": ".py",
   "mimetype": "text/x-python",
   "name": "python",
   "nbconvert_exporter": "python",
   "pygments_lexer": "ipython3",
   "version": "3.7.5"
  }
 },
 "nbformat": 4,
 "nbformat_minor": 2
}
